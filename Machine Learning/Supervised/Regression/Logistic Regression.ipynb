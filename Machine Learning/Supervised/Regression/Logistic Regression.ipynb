{
 "cells": [
  {
   "cell_type": "code",
   "execution_count": 1,
   "metadata": {
    "id": "QEZg-xlVDyzB"
   },
   "outputs": [],
   "source": [
    "import pandas as pd\n",
    "import numpy as np\n"
   ]
  },
  {
   "cell_type": "code",
   "execution_count": 2,
   "metadata": {
    "colab": {
     "base_uri": "https://localhost:8080/",
     "height": 423
    },
    "id": "WdUjTSrQEBJZ",
    "outputId": "ca8fab87-7866-4c76-d5fa-32d32f10c592"
   },
   "outputs": [
    {
     "data": {
      "text/html": [
       "<div>\n",
       "<style scoped>\n",
       "    .dataframe tbody tr th:only-of-type {\n",
       "        vertical-align: middle;\n",
       "    }\n",
       "\n",
       "    .dataframe tbody tr th {\n",
       "        vertical-align: top;\n",
       "    }\n",
       "\n",
       "    .dataframe thead th {\n",
       "        text-align: right;\n",
       "    }\n",
       "</style>\n",
       "<table border=\"1\" class=\"dataframe\">\n",
       "  <thead>\n",
       "    <tr style=\"text-align: right;\">\n",
       "      <th></th>\n",
       "      <th>Unnamed: 0</th>\n",
       "      <th>dateTime</th>\n",
       "      <th>open</th>\n",
       "      <th>high</th>\n",
       "      <th>low</th>\n",
       "      <th>close</th>\n",
       "      <th>volume</th>\n",
       "    </tr>\n",
       "  </thead>\n",
       "  <tbody>\n",
       "    <tr>\n",
       "      <th>0</th>\n",
       "      <td>0</td>\n",
       "      <td>2021-12-23 09:15:00.0</td>\n",
       "      <td>17105.00</td>\n",
       "      <td>17129.95</td>\n",
       "      <td>17105.0</td>\n",
       "      <td>17106.15</td>\n",
       "      <td>0</td>\n",
       "    </tr>\n",
       "    <tr>\n",
       "      <th>1</th>\n",
       "      <td>1</td>\n",
       "      <td>2021-12-23 09:16:00.0</td>\n",
       "      <td>17106.05</td>\n",
       "      <td>17116.00</td>\n",
       "      <td>17100.3</td>\n",
       "      <td>17116.00</td>\n",
       "      <td>12050</td>\n",
       "    </tr>\n",
       "    <tr>\n",
       "      <th>2</th>\n",
       "      <td>2</td>\n",
       "      <td>2021-12-23 09:17:00.0</td>\n",
       "      <td>17116.15</td>\n",
       "      <td>17117.85</td>\n",
       "      <td>17102.7</td>\n",
       "      <td>17107.90</td>\n",
       "      <td>5800</td>\n",
       "    </tr>\n",
       "    <tr>\n",
       "      <th>3</th>\n",
       "      <td>3</td>\n",
       "      <td>2021-12-23 09:18:00.0</td>\n",
       "      <td>17107.90</td>\n",
       "      <td>17120.00</td>\n",
       "      <td>17107.9</td>\n",
       "      <td>17116.70</td>\n",
       "      <td>7450</td>\n",
       "    </tr>\n",
       "    <tr>\n",
       "      <th>4</th>\n",
       "      <td>4</td>\n",
       "      <td>2021-12-23 09:19:00.0</td>\n",
       "      <td>17116.70</td>\n",
       "      <td>17116.70</td>\n",
       "      <td>17105.4</td>\n",
       "      <td>17106.10</td>\n",
       "      <td>4600</td>\n",
       "    </tr>\n",
       "    <tr>\n",
       "      <th>...</th>\n",
       "      <td>...</td>\n",
       "      <td>...</td>\n",
       "      <td>...</td>\n",
       "      <td>...</td>\n",
       "      <td>...</td>\n",
       "      <td>...</td>\n",
       "      <td>...</td>\n",
       "    </tr>\n",
       "    <tr>\n",
       "      <th>8298</th>\n",
       "      <td>8298</td>\n",
       "      <td>2022-01-21 15:27:00.0</td>\n",
       "      <td>17645.80</td>\n",
       "      <td>17650.00</td>\n",
       "      <td>17645.8</td>\n",
       "      <td>17650.00</td>\n",
       "      <td>34500</td>\n",
       "    </tr>\n",
       "    <tr>\n",
       "      <th>8299</th>\n",
       "      <td>8299</td>\n",
       "      <td>2022-01-21 15:28:00.0</td>\n",
       "      <td>17651.00</td>\n",
       "      <td>17651.00</td>\n",
       "      <td>17646.0</td>\n",
       "      <td>17647.75</td>\n",
       "      <td>43550</td>\n",
       "    </tr>\n",
       "    <tr>\n",
       "      <th>8300</th>\n",
       "      <td>8300</td>\n",
       "      <td>2022-01-21 15:29:00.0</td>\n",
       "      <td>17647.35</td>\n",
       "      <td>17650.00</td>\n",
       "      <td>17644.0</td>\n",
       "      <td>17647.90</td>\n",
       "      <td>42150</td>\n",
       "    </tr>\n",
       "    <tr>\n",
       "      <th>8301</th>\n",
       "      <td>8301</td>\n",
       "      <td>2022-01-21 15:30:00.0</td>\n",
       "      <td>17647.90</td>\n",
       "      <td>17647.90</td>\n",
       "      <td>17647.9</td>\n",
       "      <td>17647.90</td>\n",
       "      <td>0</td>\n",
       "    </tr>\n",
       "    <tr>\n",
       "      <th>8302</th>\n",
       "      <td>8302</td>\n",
       "      <td>2022-01-21 16:20:00.0</td>\n",
       "      <td>17647.90</td>\n",
       "      <td>17647.90</td>\n",
       "      <td>17647.9</td>\n",
       "      <td>17647.90</td>\n",
       "      <td>0</td>\n",
       "    </tr>\n",
       "  </tbody>\n",
       "</table>\n",
       "<p>8303 rows × 7 columns</p>\n",
       "</div>"
      ],
      "text/plain": [
       "      Unnamed: 0               dateTime      open      high      low  \\\n",
       "0              0  2021-12-23 09:15:00.0  17105.00  17129.95  17105.0   \n",
       "1              1  2021-12-23 09:16:00.0  17106.05  17116.00  17100.3   \n",
       "2              2  2021-12-23 09:17:00.0  17116.15  17117.85  17102.7   \n",
       "3              3  2021-12-23 09:18:00.0  17107.90  17120.00  17107.9   \n",
       "4              4  2021-12-23 09:19:00.0  17116.70  17116.70  17105.4   \n",
       "...          ...                    ...       ...       ...      ...   \n",
       "8298        8298  2022-01-21 15:27:00.0  17645.80  17650.00  17645.8   \n",
       "8299        8299  2022-01-21 15:28:00.0  17651.00  17651.00  17646.0   \n",
       "8300        8300  2022-01-21 15:29:00.0  17647.35  17650.00  17644.0   \n",
       "8301        8301  2022-01-21 15:30:00.0  17647.90  17647.90  17647.9   \n",
       "8302        8302  2022-01-21 16:20:00.0  17647.90  17647.90  17647.9   \n",
       "\n",
       "         close  volume  \n",
       "0     17106.15       0  \n",
       "1     17116.00   12050  \n",
       "2     17107.90    5800  \n",
       "3     17116.70    7450  \n",
       "4     17106.10    4600  \n",
       "...        ...     ...  \n",
       "8298  17650.00   34500  \n",
       "8299  17647.75   43550  \n",
       "8300  17647.90   42150  \n",
       "8301  17647.90       0  \n",
       "8302  17647.90       0  \n",
       "\n",
       "[8303 rows x 7 columns]"
      ]
     },
     "execution_count": 2,
     "metadata": {},
     "output_type": "execute_result"
    }
   ],
   "source": [
    "data = pd.read_csv(\"C:/Users/chamo/Documents/NIFTY22JANFUT.csv\")\n",
    "data"
   ]
  },
  {
   "cell_type": "code",
   "execution_count": 3,
   "metadata": {
    "colab": {
     "base_uri": "https://localhost:8080/"
    },
    "id": "bK2VO2aaEEcl",
    "outputId": "dce9fa34-4f1d-477b-8648-11ee17fa8e39"
   },
   "outputs": [
    {
     "data": {
      "text/plain": [
       "RangeIndex(start=0, stop=8303, step=1)"
      ]
     },
     "execution_count": 3,
     "metadata": {},
     "output_type": "execute_result"
    }
   ],
   "source": [
    "data.index"
   ]
  },
  {
   "cell_type": "code",
   "execution_count": 4,
   "metadata": {
    "colab": {
     "base_uri": "https://localhost:8080/",
     "height": 282
    },
    "id": "nbiw79kSEEij",
    "outputId": "90848617-bd06-48a4-d97e-3684b6968fe4"
   },
   "outputs": [
    {
     "data": {
      "text/plain": [
       "<AxesSubplot:>"
      ]
     },
     "execution_count": 4,
     "metadata": {},
     "output_type": "execute_result"
    },
    {
     "data": {
      "image/png": "[encoded data removed]",
      "text/plain": [
       "<Figure size 432x288 with 1 Axes>"
      ]
     },
     "metadata": {
      "needs_background": "light"
     },
     "output_type": "display_data"
    }
   ],
   "source": [
    "data.plot.line(y='close', use_index = True)"
   ]
  },
  {
   "cell_type": "code",
   "execution_count": 5,
   "metadata": {
    "id": "cLrcHUPUEK8G"
   },
   "outputs": [],
   "source": [
    "data['Target'] = data['close']"
   ]
  },
  {
   "cell_type": "code",
   "execution_count": 6,
   "metadata": {
    "colab": {
     "base_uri": "https://localhost:8080/",
     "height": 423
    },
    "id": "ggLAE5WVEOku",
    "outputId": "71f37c42-8800-48b7-a4f7-fd97cb1acb99"
   },
   "outputs": [
    {
     "data": {
      "text/html": [
       "<div>\n",
       "<style scoped>\n",
       "    .dataframe tbody tr th:only-of-type {\n",
       "        vertical-align: middle;\n",
       "    }\n",
       "\n",
       "    .dataframe tbody tr th {\n",
       "        vertical-align: top;\n",
       "    }\n",
       "\n",
       "    .dataframe thead th {\n",
       "        text-align: right;\n",
       "    }\n",
       "</style>\n",
       "<table border=\"1\" class=\"dataframe\">\n",
       "  <thead>\n",
       "    <tr style=\"text-align: right;\">\n",
       "      <th></th>\n",
       "      <th>Unnamed: 0</th>\n",
       "      <th>dateTime</th>\n",
       "      <th>open</th>\n",
       "      <th>high</th>\n",
       "      <th>low</th>\n",
       "      <th>close</th>\n",
       "      <th>volume</th>\n",
       "      <th>Target</th>\n",
       "    </tr>\n",
       "  </thead>\n",
       "  <tbody>\n",
       "    <tr>\n",
       "      <th>0</th>\n",
       "      <td>0</td>\n",
       "      <td>2021-12-23 09:15:00.0</td>\n",
       "      <td>17105.00</td>\n",
       "      <td>17129.95</td>\n",
       "      <td>17105.0</td>\n",
       "      <td>17106.15</td>\n",
       "      <td>0</td>\n",
       "      <td>17106.15</td>\n",
       "    </tr>\n",
       "    <tr>\n",
       "      <th>1</th>\n",
       "      <td>1</td>\n",
       "      <td>2021-12-23 09:16:00.0</td>\n",
       "      <td>17106.05</td>\n",
       "      <td>17116.00</td>\n",
       "      <td>17100.3</td>\n",
       "      <td>17116.00</td>\n",
       "      <td>12050</td>\n",
       "      <td>17116.00</td>\n",
       "    </tr>\n",
       "    <tr>\n",
       "      <th>2</th>\n",
       "      <td>2</td>\n",
       "      <td>2021-12-23 09:17:00.0</td>\n",
       "      <td>17116.15</td>\n",
       "      <td>17117.85</td>\n",
       "      <td>17102.7</td>\n",
       "      <td>17107.90</td>\n",
       "      <td>5800</td>\n",
       "      <td>17107.90</td>\n",
       "    </tr>\n",
       "    <tr>\n",
       "      <th>3</th>\n",
       "      <td>3</td>\n",
       "      <td>2021-12-23 09:18:00.0</td>\n",
       "      <td>17107.90</td>\n",
       "      <td>17120.00</td>\n",
       "      <td>17107.9</td>\n",
       "      <td>17116.70</td>\n",
       "      <td>7450</td>\n",
       "      <td>17116.70</td>\n",
       "    </tr>\n",
       "    <tr>\n",
       "      <th>4</th>\n",
       "      <td>4</td>\n",
       "      <td>2021-12-23 09:19:00.0</td>\n",
       "      <td>17116.70</td>\n",
       "      <td>17116.70</td>\n",
       "      <td>17105.4</td>\n",
       "      <td>17106.10</td>\n",
       "      <td>4600</td>\n",
       "      <td>17106.10</td>\n",
       "    </tr>\n",
       "    <tr>\n",
       "      <th>...</th>\n",
       "      <td>...</td>\n",
       "      <td>...</td>\n",
       "      <td>...</td>\n",
       "      <td>...</td>\n",
       "      <td>...</td>\n",
       "      <td>...</td>\n",
       "      <td>...</td>\n",
       "      <td>...</td>\n",
       "    </tr>\n",
       "    <tr>\n",
       "      <th>8298</th>\n",
       "      <td>8298</td>\n",
       "      <td>2022-01-21 15:27:00.0</td>\n",
       "      <td>17645.80</td>\n",
       "      <td>17650.00</td>\n",
       "      <td>17645.8</td>\n",
       "      <td>17650.00</td>\n",
       "      <td>34500</td>\n",
       "      <td>17650.00</td>\n",
       "    </tr>\n",
       "    <tr>\n",
       "      <th>8299</th>\n",
       "      <td>8299</td>\n",
       "      <td>2022-01-21 15:28:00.0</td>\n",
       "      <td>17651.00</td>\n",
       "      <td>17651.00</td>\n",
       "      <td>17646.0</td>\n",
       "      <td>17647.75</td>\n",
       "      <td>43550</td>\n",
       "      <td>17647.75</td>\n",
       "    </tr>\n",
       "    <tr>\n",
       "      <th>8300</th>\n",
       "      <td>8300</td>\n",
       "      <td>2022-01-21 15:29:00.0</td>\n",
       "      <td>17647.35</td>\n",
       "      <td>17650.00</td>\n",
       "      <td>17644.0</td>\n",
       "      <td>17647.90</td>\n",
       "      <td>42150</td>\n",
       "      <td>17647.90</td>\n",
       "    </tr>\n",
       "    <tr>\n",
       "      <th>8301</th>\n",
       "      <td>8301</td>\n",
       "      <td>2022-01-21 15:30:00.0</td>\n",
       "      <td>17647.90</td>\n",
       "      <td>17647.90</td>\n",
       "      <td>17647.9</td>\n",
       "      <td>17647.90</td>\n",
       "      <td>0</td>\n",
       "      <td>17647.90</td>\n",
       "    </tr>\n",
       "    <tr>\n",
       "      <th>8302</th>\n",
       "      <td>8302</td>\n",
       "      <td>2022-01-21 16:20:00.0</td>\n",
       "      <td>17647.90</td>\n",
       "      <td>17647.90</td>\n",
       "      <td>17647.9</td>\n",
       "      <td>17647.90</td>\n",
       "      <td>0</td>\n",
       "      <td>17647.90</td>\n",
       "    </tr>\n",
       "  </tbody>\n",
       "</table>\n",
       "<p>8303 rows × 8 columns</p>\n",
       "</div>"
      ],
      "text/plain": [
       "      Unnamed: 0               dateTime      open      high      low  \\\n",
       "0              0  2021-12-23 09:15:00.0  17105.00  17129.95  17105.0   \n",
       "1              1  2021-12-23 09:16:00.0  17106.05  17116.00  17100.3   \n",
       "2              2  2021-12-23 09:17:00.0  17116.15  17117.85  17102.7   \n",
       "3              3  2021-12-23 09:18:00.0  17107.90  17120.00  17107.9   \n",
       "4              4  2021-12-23 09:19:00.0  17116.70  17116.70  17105.4   \n",
       "...          ...                    ...       ...       ...      ...   \n",
       "8298        8298  2022-01-21 15:27:00.0  17645.80  17650.00  17645.8   \n",
       "8299        8299  2022-01-21 15:28:00.0  17651.00  17651.00  17646.0   \n",
       "8300        8300  2022-01-21 15:29:00.0  17647.35  17650.00  17644.0   \n",
       "8301        8301  2022-01-21 15:30:00.0  17647.90  17647.90  17647.9   \n",
       "8302        8302  2022-01-21 16:20:00.0  17647.90  17647.90  17647.9   \n",
       "\n",
       "         close  volume    Target  \n",
       "0     17106.15       0  17106.15  \n",
       "1     17116.00   12050  17116.00  \n",
       "2     17107.90    5800  17107.90  \n",
       "3     17116.70    7450  17116.70  \n",
       "4     17106.10    4600  17106.10  \n",
       "...        ...     ...       ...  \n",
       "8298  17650.00   34500  17650.00  \n",
       "8299  17647.75   43550  17647.75  \n",
       "8300  17647.90   42150  17647.90  \n",
       "8301  17647.90       0  17647.90  \n",
       "8302  17647.90       0  17647.90  \n",
       "\n",
       "[8303 rows x 8 columns]"
      ]
     },
     "execution_count": 6,
     "metadata": {},
     "output_type": "execute_result"
    }
   ],
   "source": [
    "data"
   ]
  },
  {
   "cell_type": "code",
   "execution_count": 7,
   "metadata": {},
   "outputs": [],
   "source": [
    "for i in range(len(data)-1):\n",
    "    \n",
    "    if( data['Target'][i+1]-data['Target'][i]>0):\n",
    "        data.at[i, 'Target'] =1\n",
    "    elif( data['Target'][i+1]-data['Target'][i]<0):\n",
    "        data.at[i, 'Target'] =-1\n",
    "    elif( data['Target'][i+1]-data['Target'][i]==0):\n",
    "        data.drop(i, axis=0, inplace=True)\n"
   ]
  },
  {
   "cell_type": "code",
   "execution_count": 8,
   "metadata": {},
   "outputs": [
    {
     "data": {
      "text/html": [
       "<div>\n",
       "<style scoped>\n",
       "    .dataframe tbody tr th:only-of-type {\n",
       "        vertical-align: middle;\n",
       "    }\n",
       "\n",
       "    .dataframe tbody tr th {\n",
       "        vertical-align: top;\n",
       "    }\n",
       "\n",
       "    .dataframe thead th {\n",
       "        text-align: right;\n",
       "    }\n",
       "</style>\n",
       "<table border=\"1\" class=\"dataframe\">\n",
       "  <thead>\n",
       "    <tr style=\"text-align: right;\">\n",
       "      <th></th>\n",
       "      <th>Unnamed: 0</th>\n",
       "      <th>dateTime</th>\n",
       "      <th>open</th>\n",
       "      <th>high</th>\n",
       "      <th>low</th>\n",
       "      <th>close</th>\n",
       "      <th>volume</th>\n",
       "      <th>Target</th>\n",
       "    </tr>\n",
       "  </thead>\n",
       "  <tbody>\n",
       "    <tr>\n",
       "      <th>0</th>\n",
       "      <td>0</td>\n",
       "      <td>2021-12-23 09:15:00.0</td>\n",
       "      <td>17105.00</td>\n",
       "      <td>17129.95</td>\n",
       "      <td>17105.00</td>\n",
       "      <td>17106.15</td>\n",
       "      <td>0</td>\n",
       "      <td>1.0</td>\n",
       "    </tr>\n",
       "    <tr>\n",
       "      <th>1</th>\n",
       "      <td>1</td>\n",
       "      <td>2021-12-23 09:16:00.0</td>\n",
       "      <td>17106.05</td>\n",
       "      <td>17116.00</td>\n",
       "      <td>17100.30</td>\n",
       "      <td>17116.00</td>\n",
       "      <td>12050</td>\n",
       "      <td>-1.0</td>\n",
       "    </tr>\n",
       "    <tr>\n",
       "      <th>2</th>\n",
       "      <td>2</td>\n",
       "      <td>2021-12-23 09:17:00.0</td>\n",
       "      <td>17116.15</td>\n",
       "      <td>17117.85</td>\n",
       "      <td>17102.70</td>\n",
       "      <td>17107.90</td>\n",
       "      <td>5800</td>\n",
       "      <td>1.0</td>\n",
       "    </tr>\n",
       "    <tr>\n",
       "      <th>3</th>\n",
       "      <td>3</td>\n",
       "      <td>2021-12-23 09:18:00.0</td>\n",
       "      <td>17107.90</td>\n",
       "      <td>17120.00</td>\n",
       "      <td>17107.90</td>\n",
       "      <td>17116.70</td>\n",
       "      <td>7450</td>\n",
       "      <td>-1.0</td>\n",
       "    </tr>\n",
       "    <tr>\n",
       "      <th>4</th>\n",
       "      <td>4</td>\n",
       "      <td>2021-12-23 09:19:00.0</td>\n",
       "      <td>17116.70</td>\n",
       "      <td>17116.70</td>\n",
       "      <td>17105.40</td>\n",
       "      <td>17106.10</td>\n",
       "      <td>4600</td>\n",
       "      <td>1.0</td>\n",
       "    </tr>\n",
       "    <tr>\n",
       "      <th>...</th>\n",
       "      <td>...</td>\n",
       "      <td>...</td>\n",
       "      <td>...</td>\n",
       "      <td>...</td>\n",
       "      <td>...</td>\n",
       "      <td>...</td>\n",
       "      <td>...</td>\n",
       "      <td>...</td>\n",
       "    </tr>\n",
       "    <tr>\n",
       "      <th>8296</th>\n",
       "      <td>8296</td>\n",
       "      <td>2022-01-21 15:25:00.0</td>\n",
       "      <td>17651.25</td>\n",
       "      <td>17653.55</td>\n",
       "      <td>17645.05</td>\n",
       "      <td>17647.65</td>\n",
       "      <td>44750</td>\n",
       "      <td>-1.0</td>\n",
       "    </tr>\n",
       "    <tr>\n",
       "      <th>8297</th>\n",
       "      <td>8297</td>\n",
       "      <td>2022-01-21 15:26:00.0</td>\n",
       "      <td>17647.95</td>\n",
       "      <td>17650.20</td>\n",
       "      <td>17645.00</td>\n",
       "      <td>17645.75</td>\n",
       "      <td>20550</td>\n",
       "      <td>1.0</td>\n",
       "    </tr>\n",
       "    <tr>\n",
       "      <th>8298</th>\n",
       "      <td>8298</td>\n",
       "      <td>2022-01-21 15:27:00.0</td>\n",
       "      <td>17645.80</td>\n",
       "      <td>17650.00</td>\n",
       "      <td>17645.80</td>\n",
       "      <td>17650.00</td>\n",
       "      <td>34500</td>\n",
       "      <td>-1.0</td>\n",
       "    </tr>\n",
       "    <tr>\n",
       "      <th>8299</th>\n",
       "      <td>8299</td>\n",
       "      <td>2022-01-21 15:28:00.0</td>\n",
       "      <td>17651.00</td>\n",
       "      <td>17651.00</td>\n",
       "      <td>17646.00</td>\n",
       "      <td>17647.75</td>\n",
       "      <td>43550</td>\n",
       "      <td>1.0</td>\n",
       "    </tr>\n",
       "    <tr>\n",
       "      <th>8302</th>\n",
       "      <td>8302</td>\n",
       "      <td>2022-01-21 16:20:00.0</td>\n",
       "      <td>17647.90</td>\n",
       "      <td>17647.90</td>\n",
       "      <td>17647.90</td>\n",
       "      <td>17647.90</td>\n",
       "      <td>0</td>\n",
       "      <td>17647.9</td>\n",
       "    </tr>\n",
       "  </tbody>\n",
       "</table>\n",
       "<p>8130 rows × 8 columns</p>\n",
       "</div>"
      ],
      "text/plain": [
       "      Unnamed: 0               dateTime      open      high       low  \\\n",
       "0              0  2021-12-23 09:15:00.0  17105.00  17129.95  17105.00   \n",
       "1              1  2021-12-23 09:16:00.0  17106.05  17116.00  17100.30   \n",
       "2              2  2021-12-23 09:17:00.0  17116.15  17117.85  17102.70   \n",
       "3              3  2021-12-23 09:18:00.0  17107.90  17120.00  17107.90   \n",
       "4              4  2021-12-23 09:19:00.0  17116.70  17116.70  17105.40   \n",
       "...          ...                    ...       ...       ...       ...   \n",
       "8296        8296  2022-01-21 15:25:00.0  17651.25  17653.55  17645.05   \n",
       "8297        8297  2022-01-21 15:26:00.0  17647.95  17650.20  17645.00   \n",
       "8298        8298  2022-01-21 15:27:00.0  17645.80  17650.00  17645.80   \n",
       "8299        8299  2022-01-21 15:28:00.0  17651.00  17651.00  17646.00   \n",
       "8302        8302  2022-01-21 16:20:00.0  17647.90  17647.90  17647.90   \n",
       "\n",
       "         close  volume   Target  \n",
       "0     17106.15       0      1.0  \n",
       "1     17116.00   12050     -1.0  \n",
       "2     17107.90    5800      1.0  \n",
       "3     17116.70    7450     -1.0  \n",
       "4     17106.10    4600      1.0  \n",
       "...        ...     ...      ...  \n",
       "8296  17647.65   44750     -1.0  \n",
       "8297  17645.75   20550      1.0  \n",
       "8298  17650.00   34500     -1.0  \n",
       "8299  17647.75   43550      1.0  \n",
       "8302  17647.90       0  17647.9  \n",
       "\n",
       "[8130 rows x 8 columns]"
      ]
     },
     "execution_count": 8,
     "metadata": {},
     "output_type": "execute_result"
    }
   ],
   "source": [
    "data"
   ]
  },
  {
   "cell_type": "code",
   "execution_count": 9,
   "metadata": {
    "colab": {
     "base_uri": "https://localhost:8080/"
    },
    "id": "B0zG0VhuG-b-",
    "outputId": "4af27338-bc04-41a6-cf89-c4acddb35491"
   },
   "outputs": [
    {
     "data": {
      "text/plain": [
       "Unnamed: 0    0\n",
       "dateTime      0\n",
       "open          0\n",
       "high          0\n",
       "low           0\n",
       "close         0\n",
       "volume        0\n",
       "Target        0\n",
       "dtype: int64"
      ]
     },
     "execution_count": 9,
     "metadata": {},
     "output_type": "execute_result"
    }
   ],
   "source": [
    "data.isnull().sum()"
   ]
  },
  {
   "cell_type": "code",
   "execution_count": 10,
   "metadata": {},
   "outputs": [],
   "source": [
    "data= data.dropna()"
   ]
  },
  {
   "cell_type": "code",
   "execution_count": 11,
   "metadata": {
    "colab": {
     "base_uri": "https://localhost:8080/",
     "height": 423
    },
    "id": "AWDGPon3H8l4",
    "outputId": "e483db14-c9f7-40be-c044-92a72511f978"
   },
   "outputs": [],
   "source": [
    "data= data.drop(8302)"
   ]
  },
  {
   "cell_type": "code",
   "execution_count": 12,
   "metadata": {},
   "outputs": [
    {
     "data": {
      "text/html": [
       "<div>\n",
       "<style scoped>\n",
       "    .dataframe tbody tr th:only-of-type {\n",
       "        vertical-align: middle;\n",
       "    }\n",
       "\n",
       "    .dataframe tbody tr th {\n",
       "        vertical-align: top;\n",
       "    }\n",
       "\n",
       "    .dataframe thead th {\n",
       "        text-align: right;\n",
       "    }\n",
       "</style>\n",
       "<table border=\"1\" class=\"dataframe\">\n",
       "  <thead>\n",
       "    <tr style=\"text-align: right;\">\n",
       "      <th></th>\n",
       "      <th>Unnamed: 0</th>\n",
       "      <th>dateTime</th>\n",
       "      <th>open</th>\n",
       "      <th>high</th>\n",
       "      <th>low</th>\n",
       "      <th>close</th>\n",
       "      <th>volume</th>\n",
       "      <th>Target</th>\n",
       "    </tr>\n",
       "  </thead>\n",
       "  <tbody>\n",
       "    <tr>\n",
       "      <th>0</th>\n",
       "      <td>0</td>\n",
       "      <td>2021-12-23 09:15:00.0</td>\n",
       "      <td>17105.00</td>\n",
       "      <td>17129.95</td>\n",
       "      <td>17105.00</td>\n",
       "      <td>17106.15</td>\n",
       "      <td>0</td>\n",
       "      <td>1.0</td>\n",
       "    </tr>\n",
       "    <tr>\n",
       "      <th>1</th>\n",
       "      <td>1</td>\n",
       "      <td>2021-12-23 09:16:00.0</td>\n",
       "      <td>17106.05</td>\n",
       "      <td>17116.00</td>\n",
       "      <td>17100.30</td>\n",
       "      <td>17116.00</td>\n",
       "      <td>12050</td>\n",
       "      <td>-1.0</td>\n",
       "    </tr>\n",
       "    <tr>\n",
       "      <th>2</th>\n",
       "      <td>2</td>\n",
       "      <td>2021-12-23 09:17:00.0</td>\n",
       "      <td>17116.15</td>\n",
       "      <td>17117.85</td>\n",
       "      <td>17102.70</td>\n",
       "      <td>17107.90</td>\n",
       "      <td>5800</td>\n",
       "      <td>1.0</td>\n",
       "    </tr>\n",
       "    <tr>\n",
       "      <th>3</th>\n",
       "      <td>3</td>\n",
       "      <td>2021-12-23 09:18:00.0</td>\n",
       "      <td>17107.90</td>\n",
       "      <td>17120.00</td>\n",
       "      <td>17107.90</td>\n",
       "      <td>17116.70</td>\n",
       "      <td>7450</td>\n",
       "      <td>-1.0</td>\n",
       "    </tr>\n",
       "    <tr>\n",
       "      <th>4</th>\n",
       "      <td>4</td>\n",
       "      <td>2021-12-23 09:19:00.0</td>\n",
       "      <td>17116.70</td>\n",
       "      <td>17116.70</td>\n",
       "      <td>17105.40</td>\n",
       "      <td>17106.10</td>\n",
       "      <td>4600</td>\n",
       "      <td>1.0</td>\n",
       "    </tr>\n",
       "    <tr>\n",
       "      <th>...</th>\n",
       "      <td>...</td>\n",
       "      <td>...</td>\n",
       "      <td>...</td>\n",
       "      <td>...</td>\n",
       "      <td>...</td>\n",
       "      <td>...</td>\n",
       "      <td>...</td>\n",
       "      <td>...</td>\n",
       "    </tr>\n",
       "    <tr>\n",
       "      <th>8295</th>\n",
       "      <td>8295</td>\n",
       "      <td>2022-01-21 15:24:00.0</td>\n",
       "      <td>17646.95</td>\n",
       "      <td>17654.50</td>\n",
       "      <td>17645.05</td>\n",
       "      <td>17654.00</td>\n",
       "      <td>60600</td>\n",
       "      <td>-1.0</td>\n",
       "    </tr>\n",
       "    <tr>\n",
       "      <th>8296</th>\n",
       "      <td>8296</td>\n",
       "      <td>2022-01-21 15:25:00.0</td>\n",
       "      <td>17651.25</td>\n",
       "      <td>17653.55</td>\n",
       "      <td>17645.05</td>\n",
       "      <td>17647.65</td>\n",
       "      <td>44750</td>\n",
       "      <td>-1.0</td>\n",
       "    </tr>\n",
       "    <tr>\n",
       "      <th>8297</th>\n",
       "      <td>8297</td>\n",
       "      <td>2022-01-21 15:26:00.0</td>\n",
       "      <td>17647.95</td>\n",
       "      <td>17650.20</td>\n",
       "      <td>17645.00</td>\n",
       "      <td>17645.75</td>\n",
       "      <td>20550</td>\n",
       "      <td>1.0</td>\n",
       "    </tr>\n",
       "    <tr>\n",
       "      <th>8298</th>\n",
       "      <td>8298</td>\n",
       "      <td>2022-01-21 15:27:00.0</td>\n",
       "      <td>17645.80</td>\n",
       "      <td>17650.00</td>\n",
       "      <td>17645.80</td>\n",
       "      <td>17650.00</td>\n",
       "      <td>34500</td>\n",
       "      <td>-1.0</td>\n",
       "    </tr>\n",
       "    <tr>\n",
       "      <th>8299</th>\n",
       "      <td>8299</td>\n",
       "      <td>2022-01-21 15:28:00.0</td>\n",
       "      <td>17651.00</td>\n",
       "      <td>17651.00</td>\n",
       "      <td>17646.00</td>\n",
       "      <td>17647.75</td>\n",
       "      <td>43550</td>\n",
       "      <td>1.0</td>\n",
       "    </tr>\n",
       "  </tbody>\n",
       "</table>\n",
       "<p>8129 rows × 8 columns</p>\n",
       "</div>"
      ],
      "text/plain": [
       "      Unnamed: 0               dateTime      open      high       low  \\\n",
       "0              0  2021-12-23 09:15:00.0  17105.00  17129.95  17105.00   \n",
       "1              1  2021-12-23 09:16:00.0  17106.05  17116.00  17100.30   \n",
       "2              2  2021-12-23 09:17:00.0  17116.15  17117.85  17102.70   \n",
       "3              3  2021-12-23 09:18:00.0  17107.90  17120.00  17107.90   \n",
       "4              4  2021-12-23 09:19:00.0  17116.70  17116.70  17105.40   \n",
       "...          ...                    ...       ...       ...       ...   \n",
       "8295        8295  2022-01-21 15:24:00.0  17646.95  17654.50  17645.05   \n",
       "8296        8296  2022-01-21 15:25:00.0  17651.25  17653.55  17645.05   \n",
       "8297        8297  2022-01-21 15:26:00.0  17647.95  17650.20  17645.00   \n",
       "8298        8298  2022-01-21 15:27:00.0  17645.80  17650.00  17645.80   \n",
       "8299        8299  2022-01-21 15:28:00.0  17651.00  17651.00  17646.00   \n",
       "\n",
       "         close  volume  Target  \n",
       "0     17106.15       0     1.0  \n",
       "1     17116.00   12050    -1.0  \n",
       "2     17107.90    5800     1.0  \n",
       "3     17116.70    7450    -1.0  \n",
       "4     17106.10    4600     1.0  \n",
       "...        ...     ...     ...  \n",
       "8295  17654.00   60600    -1.0  \n",
       "8296  17647.65   44750    -1.0  \n",
       "8297  17645.75   20550     1.0  \n",
       "8298  17650.00   34500    -1.0  \n",
       "8299  17647.75   43550     1.0  \n",
       "\n",
       "[8129 rows x 8 columns]"
      ]
     },
     "execution_count": 12,
     "metadata": {},
     "output_type": "execute_result"
    }
   ],
   "source": [
    "data"
   ]
  },
  {
   "cell_type": "code",
   "execution_count": 69,
   "metadata": {
    "id": "1DytyaGsFLSs"
   },
   "outputs": [],
   "source": [
    "from sklearn.linear_model import LogisticRegression \n",
    "\n",
    "from sklearn.metrics import mean_squared_error\n",
    "from sklearn.model_selection import train_test_split"
   ]
  },
  {
   "cell_type": "code",
   "execution_count": 153,
   "metadata": {
    "id": "xP2PoeDzFvh0"
   },
   "outputs": [],
   "source": [
    "X = data[['open', 'high','low','close','volume']]\n",
    "y = data['Target']"
   ]
  },
  {
   "cell_type": "code",
   "execution_count": 172,
   "metadata": {
    "id": "26UHjbcWGT0v"
   },
   "outputs": [],
   "source": [
    "X_train, X_test, y_train, y_test = train_test_split(X, y, test_size=0.3, random_state=13)"
   ]
  },
  {
   "cell_type": "code",
   "execution_count": 173,
   "metadata": {
    "id": "uddldbDEGjBP"
   },
   "outputs": [],
   "source": [
    "lr= LogisticRegression(solver='saga')"
   ]
  },
  {
   "cell_type": "code",
   "execution_count": 174,
   "metadata": {
    "colab": {
     "base_uri": "https://localhost:8080/"
    },
    "id": "ZjXIOoN-Gqo2",
    "outputId": "55f0c0c6-9b3d-45fa-bde1-ef53510c7f13"
   },
   "outputs": [
    {
     "name": "stderr",
     "output_type": "stream",
     "text": [
      "C:\\Users\\chamo\\anaconda3\\envs\\deep\\lib\\site-packages\\sklearn\\linear_model\\_sag.py:350: ConvergenceWarning: The max_iter was reached which means the coef_ did not converge\n",
      "  warnings.warn(\n"
     ]
    },
    {
     "data": {
      "text/html": [
       "<style>#sk-container-id-17 {color: black;background-color: white;}#sk-container-id-17 pre{padding: 0;}#sk-container-id-17 div.sk-toggleable {background-color: white;}#sk-container-id-17 label.sk-toggleable__label {cursor: pointer;display: block;width: 100%;margin-bottom: 0;padding: 0.3em;box-sizing: border-box;text-align: center;}#sk-container-id-17 label.sk-toggleable__label-arrow:before {content: \"▸\";float: left;margin-right: 0.25em;color: #696969;}#sk-container-id-17 label.sk-toggleable__label-arrow:hover:before {color: black;}#sk-container-id-17 div.sk-estimator:hover label.sk-toggleable__label-arrow:before {color: black;}#sk-container-id-17 div.sk-toggleable__content {max-height: 0;max-width: 0;overflow: hidden;text-align: left;background-color: #f0f8ff;}#sk-container-id-17 div.sk-toggleable__content pre {margin: 0.2em;color: black;border-radius: 0.25em;background-color: #f0f8ff;}#sk-container-id-17 input.sk-toggleable__control:checked~div.sk-toggleable__content {max-height: 200px;max-width: 100%;overflow: auto;}#sk-container-id-17 input.sk-toggleable__control:checked~label.sk-toggleable__label-arrow:before {content: \"▾\";}#sk-container-id-17 div.sk-estimator input.sk-toggleable__control:checked~label.sk-toggleable__label {background-color: #d4ebff;}#sk-container-id-17 div.sk-label input.sk-toggleable__control:checked~label.sk-toggleable__label {background-color: #d4ebff;}#sk-container-id-17 input.sk-hidden--visually {border: 0;clip: rect(1px 1px 1px 1px);clip: rect(1px, 1px, 1px, 1px);height: 1px;margin: -1px;overflow: hidden;padding: 0;position: absolute;width: 1px;}#sk-container-id-17 div.sk-estimator {font-family: monospace;background-color: #f0f8ff;border: 1px dotted black;border-radius: 0.25em;box-sizing: border-box;margin-bottom: 0.5em;}#sk-container-id-17 div.sk-estimator:hover {background-color: #d4ebff;}#sk-container-id-17 div.sk-parallel-item::after {content: \"\";width: 100%;border-bottom: 1px solid gray;flex-grow: 1;}#sk-container-id-17 div.sk-label:hover label.sk-toggleable__label {background-color: #d4ebff;}#sk-container-id-17 div.sk-serial::before {content: \"\";position: absolute;border-left: 1px solid gray;box-sizing: border-box;top: 0;bottom: 0;left: 50%;z-index: 0;}#sk-container-id-17 div.sk-serial {display: flex;flex-direction: column;align-items: center;background-color: white;padding-right: 0.2em;padding-left: 0.2em;position: relative;}#sk-container-id-17 div.sk-item {position: relative;z-index: 1;}#sk-container-id-17 div.sk-parallel {display: flex;align-items: stretch;justify-content: center;background-color: white;position: relative;}#sk-container-id-17 div.sk-item::before, #sk-container-id-17 div.sk-parallel-item::before {content: \"\";position: absolute;border-left: 1px solid gray;box-sizing: border-box;top: 0;bottom: 0;left: 50%;z-index: -1;}#sk-container-id-17 div.sk-parallel-item {display: flex;flex-direction: column;z-index: 1;position: relative;background-color: white;}#sk-container-id-17 div.sk-parallel-item:first-child::after {align-self: flex-end;width: 50%;}#sk-container-id-17 div.sk-parallel-item:last-child::after {align-self: flex-start;width: 50%;}#sk-container-id-17 div.sk-parallel-item:only-child::after {width: 0;}#sk-container-id-17 div.sk-dashed-wrapped {border: 1px dashed gray;margin: 0 0.4em 0.5em 0.4em;box-sizing: border-box;padding-bottom: 0.4em;background-color: white;}#sk-container-id-17 div.sk-label label {font-family: monospace;font-weight: bold;display: inline-block;line-height: 1.2em;}#sk-container-id-17 div.sk-label-container {text-align: center;}#sk-container-id-17 div.sk-container {/* jupyter's `normalize.less` sets `[hidden] { display: none; }` but bootstrap.min.css set `[hidden] { display: none !important; }` so we also need the `!important` here to be able to override the default hidden behavior on the sphinx rendered scikit-learn.org. See: https://github.com/scikit-learn/scikit-learn/issues/21755 */display: inline-block !important;position: relative;}#sk-container-id-17 div.sk-text-repr-fallback {display: none;}</style><div id=\"sk-container-id-17\" class=\"sk-top-container\"><div class=\"sk-text-repr-fallback\"><pre>LogisticRegression(solver=&#x27;saga&#x27;)</pre><b>In a Jupyter environment, please rerun this cell to show the HTML representation or trust the notebook. <br />On GitHub, the HTML representation is unable to render, please try loading this page with nbviewer.org.</b></div><div class=\"sk-container\" hidden><div class=\"sk-item\"><div class=\"sk-estimator sk-toggleable\"><input class=\"sk-toggleable__control sk-hidden--visually\" id=\"sk-estimator-id-17\" type=\"checkbox\" checked><label for=\"sk-estimator-id-17\" class=\"sk-toggleable__label sk-toggleable__label-arrow\">LogisticRegression</label><div class=\"sk-toggleable__content\"><pre>LogisticRegression(solver=&#x27;saga&#x27;)</pre></div></div></div></div></div>"
      ],
      "text/plain": [
       "LogisticRegression(solver='saga')"
      ]
     },
     "execution_count": 174,
     "metadata": {},
     "output_type": "execute_result"
    }
   ],
   "source": [
    "lr.fit(X_train, y_train)"
   ]
  },
  {
   "cell_type": "code",
   "execution_count": 175,
   "metadata": {
    "colab": {
     "base_uri": "https://localhost:8080/"
    },
    "id": "Z2d2M7xiGxx7",
    "outputId": "32b63ce0-5162-4bd9-f09a-9cc69cbc2a2d"
   },
   "outputs": [
    {
     "data": {
      "text/plain": [
       "array([ 1.,  1., -1., ...,  1., -1.,  1.])"
      ]
     },
     "execution_count": 175,
     "metadata": {},
     "output_type": "execute_result"
    }
   ],
   "source": [
    "y_pred = lr.predict(X_test)\n",
    "y_pred"
   ]
  },
  {
   "cell_type": "code",
   "execution_count": 176,
   "metadata": {
    "colab": {
     "base_uri": "https://localhost:8080/"
    },
    "id": "gQS9bfhpG3Nk",
    "outputId": "017648b5-33fd-4976-ea02-63ac7163c766"
   },
   "outputs": [
    {
     "data": {
      "text/plain": [
       "0.4944649446494465"
      ]
     },
     "execution_count": 176,
     "metadata": {},
     "output_type": "execute_result"
    }
   ],
   "source": [
    "lr.score(X_test,y_test)"
   ]
  },
  {
   "cell_type": "code",
   "execution_count": 177,
   "metadata": {},
   "outputs": [],
   "source": [
    "error= mean_squared_error (y_test, y_pred) "
   ]
  },
  {
   "cell_type": "code",
   "execution_count": 178,
   "metadata": {},
   "outputs": [
    {
     "data": {
      "text/plain": [
       "2.022140221402214"
      ]
     },
     "execution_count": 178,
     "metadata": {},
     "output_type": "execute_result"
    }
   ],
   "source": [
    "error"
   ]
  },
  {
   "cell_type": "code",
   "execution_count": null,
   "metadata": {},
   "outputs": [],
   "source": []
  },
  {
   "cell_type": "code",
   "execution_count": 179,
   "metadata": {},
   "outputs": [],
   "source": [
    "confusion = pd.crosstab(y_test, y_pred)\n"
   ]
  },
  {
   "cell_type": "code",
   "execution_count": 180,
   "metadata": {},
   "outputs": [
    {
     "data": {
      "text/html": [
       "<div>\n",
       "<style scoped>\n",
       "    .dataframe tbody tr th:only-of-type {\n",
       "        vertical-align: middle;\n",
       "    }\n",
       "\n",
       "    .dataframe tbody tr th {\n",
       "        vertical-align: top;\n",
       "    }\n",
       "\n",
       "    .dataframe thead th {\n",
       "        text-align: right;\n",
       "    }\n",
       "</style>\n",
       "<table border=\"1\" class=\"dataframe\">\n",
       "  <thead>\n",
       "    <tr style=\"text-align: right;\">\n",
       "      <th>col_0</th>\n",
       "      <th>-1.0</th>\n",
       "      <th>1.0</th>\n",
       "    </tr>\n",
       "    <tr>\n",
       "      <th>Target</th>\n",
       "      <th></th>\n",
       "      <th></th>\n",
       "    </tr>\n",
       "  </thead>\n",
       "  <tbody>\n",
       "    <tr>\n",
       "      <th>-1.0</th>\n",
       "      <td>140</td>\n",
       "      <td>1075</td>\n",
       "    </tr>\n",
       "    <tr>\n",
       "      <th>1.0</th>\n",
       "      <td>158</td>\n",
       "      <td>1066</td>\n",
       "    </tr>\n",
       "  </tbody>\n",
       "</table>\n",
       "</div>"
      ],
      "text/plain": [
       "col_0   -1.0   1.0\n",
       "Target            \n",
       "-1.0     140  1075\n",
       " 1.0     158  1066"
      ]
     },
     "execution_count": 180,
     "metadata": {},
     "output_type": "execute_result"
    }
   ],
   "source": [
    "confusion"
   ]
  },
  {
   "cell_type": "code",
   "execution_count": null,
   "metadata": {},
   "outputs": [],
   "source": []
  },
  {
   "cell_type": "code",
   "execution_count": null,
   "metadata": {},
   "outputs": [],
   "source": []
  }
 ],
 "metadata": {
  "colab": {
   "provenance": []
  },
  "kernelspec": {
   "display_name": "Python 3 (ipykernel)",
   "language": "python",
   "name": "python3"
  },
  "language_info": {
   "codemirror_mode": {
    "name": "ipython",
    "version": 3
   },
   "file_extension": ".py",
   "mimetype": "text/x-python",
   "name": "python",
   "nbconvert_exporter": "python",
   "pygments_lexer": "ipython3",
   "version": "3.10.4"
  }
 },
 "nbformat": 4,
 "nbformat_minor": 1
}
