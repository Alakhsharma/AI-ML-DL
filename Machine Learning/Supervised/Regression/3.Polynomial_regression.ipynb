{
  "nbformat": 4,
  "nbformat_minor": 0,
  "metadata": {
    "colab": {
      "provenance": []
    },
    "kernelspec": {
      "name": "python3",
      "display_name": "Python 3"
    },
    "language_info": {
      "name": "python"
    }
  },
  "cells": [
    {
      "cell_type": "markdown",
      "source": [
        "#Polynomial regression\n",
        "Polynomial Regression is a powerful technique to encounter the situations where a quadratic, cubic or a higher degree nonlinear relationship exists. The underlying concept in polynomial regression is to add powers of each independent attribute as new attributes and then train a linear model on this expanded collection of features.\n",
        "Let us illustrate the use of Polynomial Regression with an example. Consider a situation where the dependent variable y varies with respect to an independent variable x following a relation"
      ],
      "metadata": {
        "id": "HBqk_ZUlXmnJ"
      }
    },
    {
      "cell_type": "code",
      "execution_count": null,
      "metadata": {
        "colab": {
          "base_uri": "https://localhost:8080/",
          "height": 439
        },
        "id": "yoVupMyMWvf3",
        "outputId": "1e2e1926-51bb-43d2-9a6a-1b88c44b336f"
      },
      "outputs": [
        {
          "output_type": "stream",
          "name": "stdout",
          "text": [
            "Slope of the line is [[14.68874178]]\n",
            "Intercept value is [53.63760323]\n",
            "MSE of Linear model 1979.3510510050273\n",
            "R2 score of Linear model:  0.29359912641544794\n",
            "Coefficients of x are [[ 2. 13.]]\n",
            "Intercept is [7.]\n"
          ]
        },
        {
          "output_type": "display_data",
          "data": {
            "text/plain": [
              "<Figure size 432x288 with 1 Axes>"
            ],
            "image/png": "[encoded data removed]"
          },
          "metadata": {
            "needs_background": "light"
          }
        },
        {
          "output_type": "stream",
          "name": "stdout",
          "text": [
            "MSE of Polyregression model 1.108325906008365e-27\n",
            "R2 score of Linear model:  1.0\n"
          ]
        }
      ],
      "source": [
        "# Importing the libraries\n",
        "import numpy as np\n",
        "import matplotlib.pyplot as plt\n",
        "from sklearn.linear_model import LinearRegression\n",
        "from sklearn.preprocessing import PolynomialFeatures\n",
        "from sklearn.metrics import mean_squared_error, r2_score\n",
        "  \n",
        "# Importing the dataset\n",
        "## x = data, y = quadratic equation\n",
        "x = np.array(7 * np.random.rand(100, 1) - 3)\n",
        "x1 = x.reshape(-1, 1)\n",
        "y = 13 * x*x + 2 * x + 7 \n",
        "# data points\n",
        "plt.scatter(x, y, s = 10)\n",
        "plt.xlabel('x')\n",
        "plt.ylabel('y')\n",
        "plt.title('Non Linear Data')\n",
        "# Model initialization\n",
        "regression_model = LinearRegression()\n",
        "# Fit the data(train the model)\n",
        "regression_model.fit(x1, y)\n",
        "print('Slope of the line is', regression_model.coef_)\n",
        "print('Intercept value is', regression_model.intercept_)\n",
        "# Predict\n",
        "y_predicted = regression_model.predict(x1)\n",
        "# data points\n",
        "plt.scatter(x, y, s = 10)\n",
        "plt.xlabel(\"$x$\", fontsize = 18)\n",
        "plt.ylabel(\"$y$\", rotation = 0, fontsize = 18)\n",
        "plt.title(\"data points\")\n",
        "  \n",
        "# predicted values\n",
        "plt.plot(x, y_predicted, color ='g')\n",
        "# model evaluation\n",
        "mse = mean_squared_error(y, y_predicted)\n",
        "  \n",
        "rmse = np.sqrt(mean_squared_error(y, y_predicted))\n",
        "r2 = r2_score(y, y_predicted)\n",
        "  \n",
        "# printing values\n",
        "  \n",
        "print('MSE of Linear model', mse)\n",
        "  \n",
        "print('R2 score of Linear model: ', r2)\n",
        "poly_features = PolynomialFeatures(degree = 2, include_bias = False)\n",
        "x_poly = poly_features.fit_transform(x1)\n",
        "x[3]\n",
        "lin_reg = LinearRegression()\n",
        "lin_reg.fit(x_poly, y)\n",
        "print('Coefficients of x are', lin_reg.coef_)\n",
        "print('Intercept is', lin_reg.intercept_)\n",
        "x_new = np.linspace(-3, 4, 100).reshape(100, 1)\n",
        "x_new_poly = poly_features.transform(x_new)\n",
        "y_new = lin_reg.predict(x_new_poly)\n",
        "plt.plot(x, y, \"b.\")\n",
        "plt.plot(x_new, y_new, \"r-\", linewidth = 2, label =\"Predictions\")\n",
        "plt.xlabel(\"$x_1$\", fontsize = 18)\n",
        "plt.ylabel(\"$y$\", rotation = 0, fontsize = 18)\n",
        "plt.legend(loc =\"upper left\", fontsize = 14)\n",
        "  \n",
        "plt.title(\"Quadratic_predictions_plot\")\n",
        "plt.show()\n",
        "y_deg2 = lin_reg.predict(x_poly)\n",
        "# model evaluation\n",
        "mse_deg2 = mean_squared_error(y, y_deg2)\n",
        "  \n",
        "r2_deg2 = r2_score(y, y_deg2)\n",
        "  \n",
        "# printing values\n",
        "  \n",
        "print('MSE of Polyregression model', mse_deg2)\n",
        "  \n",
        "print('R2 score of Linear model: ', r2_deg2)"
      ]
    }
  ]
}