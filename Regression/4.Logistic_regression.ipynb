{
  "cells": [
    {
      "cell_type": "markdown",
      "source": [
        "#Logistic_Regression"
      ],
      "metadata": {
        "id": "p4hWI3bCoqUp"
      }
    },
    {
      "cell_type": "code",
      "execution_count": null,
      "metadata": {
        "colab": {
          "base_uri": "https://localhost:8080/"
        },
        "id": "3B2ze6iKb7IV",
        "outputId": "ff3bcd64-0ba4-4ce5-fd4f-a101271ac947"
      },
      "outputs": [
        {
          "output_type": "stream",
          "name": "stdout",
          "text": [
            "          open      high       low     close  volume  close_diff  new_col\n",
            "0     17105.00  17129.95  17105.00  17106.15       0         NaN        0\n",
            "1     17106.05  17116.00  17100.30  17116.00   12050        9.85        1\n",
            "2     17116.15  17117.85  17102.70  17107.90    5800       -8.10        0\n",
            "3     17107.90  17120.00  17107.90  17116.70    7450        8.80        1\n",
            "4     17116.70  17116.70  17105.40  17106.10    4600      -10.60        0\n",
            "...        ...       ...       ...       ...     ...         ...      ...\n",
            "8296  17651.25  17653.55  17645.05  17647.65   44750       -6.35        0\n",
            "8297  17647.95  17650.20  17645.00  17645.75   20550       -1.90        0\n",
            "8298  17645.80  17650.00  17645.80  17650.00   34500        4.25        1\n",
            "8299  17651.00  17651.00  17646.00  17647.75   43550       -2.25        0\n",
            "8300  17647.35  17650.00  17644.00  17647.90   42150        0.15        1\n",
            "\n",
            "[8130 rows x 7 columns]\n",
            "[1 1 0 ... 1 0 1]\n"
          ]
        }
      ],
      "source": [
        "import pandas as pd\n",
        "import numpy as np\n",
        "from sklearn.linear_model import LogisticRegression\n",
        "from sklearn.metrics import confusion_matrix\n",
        "from sklearn.metrics import precision_score , recall_score\n",
        "\n",
        "df = pd.read_csv(\"NIFTY22JANFUT.csv\")\n",
        "df.head(5)\n",
        "del df['Unnamed: 0']\n",
        "del df['dateTime']\n",
        "df.head()\n",
        "df['close_diff'] = df['close'].diff()\n",
        "df.head()\n",
        "df[\"new_col\"] = np.where(df[\"close_diff\"]>0,1,0)\n",
        "df.head()\n",
        "df.drop(df[df['close_diff'] == 0].index, inplace = True)\n",
        "print(df)\n",
        "X = df[['open' , 'high' ,'low' , 'close']] \n",
        "X.head()\n",
        "y = df['new_col']\n",
        "y.head()\n",
        "\n",
        "clf_lrs = LogisticRegression()\n",
        "clf_lrs.fit(X,y)\n",
        "\n",
        "clf_lrs.predict_proba(X)\n",
        "y_pred = clf_lrs.predict(X)\n",
        "print(y_pred)\n",
        "\n",
        "\n",
        "\n"
      ]
    },
    {
      "cell_type": "code",
      "source": [
        "print(precision_score(y , y_pred))\n",
        "print(recall_score(y, y_pred))\n",
        "print(clf_lrs.coef_)\n",
        "print(clf_lrs.intercept_)\n",
        "\n",
        "print(confusion_matrix(y , y_pred))\n",
        "\n"
      ],
      "metadata": {
        "colab": {
          "base_uri": "https://localhost:8080/"
        },
        "id": "Yb7oUaF0pnMJ",
        "outputId": "4c258684-ffd0-4977-ef7f-7ad13396597e"
      },
      "execution_count": null,
      "outputs": [
        {
          "output_type": "stream",
          "name": "stdout",
          "text": [
            "0.956685027541312\n",
            "0.9283284742468416\n",
            "[[-1.35335163  0.01192179 -0.02131859  1.36274275]]\n",
            "[-0.00069882]\n",
            "[[3841  173]\n",
            " [ 295 3821]]\n"
          ]
        }
      ]
    }
  ],
  "metadata": {
    "colab": {
      "provenance": []
    },
    "kernelspec": {
      "display_name": "Python 3",
      "name": "python3"
    },
    "language_info": {
      "name": "python"
    }
  },
  "nbformat": 4,
  "nbformat_minor": 0
}