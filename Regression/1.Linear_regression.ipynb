{
  "nbformat": 4,
  "nbformat_minor": 0,
  "metadata": {
    "colab": {
      "provenance": []
    },
    "kernelspec": {
      "name": "python3",
      "display_name": "Python 3"
    },
    "language_info": {
      "name": "python"
    }
  },
  "cells": [
    {
      "cell_type": "markdown",
      "source": [
        "#Linear Regression"
      ],
      "metadata": {
        "id": "ED2EUuf3mOjw"
      }
    },
    {
      "cell_type": "code",
      "execution_count": null,
      "metadata": {
        "colab": {
          "base_uri": "https://localhost:8080/",
          "height": 786
        },
        "id": "2Jr6G0WrtF0b",
        "outputId": "e98c1ca0-1658-4abf-a3c9-909e04c2a2dd"
      },
      "outputs": [
        {
          "output_type": "stream",
          "name": "stdout",
          "text": [
            "0      4512\n",
            "1      3738\n",
            "2      4261\n",
            "3      3777\n",
            "4      4177\n",
            "       ... \n",
            "232    3214\n",
            "233    3394\n",
            "234    3233\n",
            "235    3352\n",
            "236    3391\n",
            "Name: Head Size, Length: 237, dtype: int64\n",
            "0      1530\n",
            "1      1297\n",
            "2      1335\n",
            "3      1282\n",
            "4      1590\n",
            "       ... \n",
            "232    1110\n",
            "233    1215\n",
            "234    1104\n",
            "235    1170\n",
            "236    1120\n",
            "Name: Brain Weight, Length: 237, dtype: int64\n",
            "325.57342104944223\n",
            "0.26342933948939945\n"
          ]
        },
        {
          "output_type": "display_data",
          "data": {
            "text/plain": [
              "<Figure size 432x288 with 1 Axes>"
            ],
            "image/png": "[encoded data removed]"
          },
          "metadata": {
            "needs_background": "light"
          }
        },
        {
          "output_type": "stream",
          "name": "stdout",
          "text": [
            "72.1206213783709\n",
            "Enter the x:\n",
            "32\n",
            "334.003159913103\n"
          ]
        }
      ],
      "source": [
        "from turtle import color\n",
        "import pandas as pd\n",
        "data = pd.read_csv(\"headbrain.csv\")\n",
        "x = data['Head Size']\n",
        "y = data['Brain Weight']\n",
        "print(x)\n",
        "print(y)\n",
        "import matplotlib.pyplot as plt\n",
        "plt.scatter(x,y)\n",
        "\n",
        "import math\n",
        "def mean(n):\n",
        "    return sum(n) / float(len(n))\n",
        "def covariance(x, mx, y, my):\n",
        "    covar = 0.0\n",
        "    for i in range(len(x)):\n",
        "        covar += (x[i] - mx) * (y[i] - my)\n",
        "    return covar\n",
        "def variance(values, mean):\n",
        "    return sum([(x-mean)**2 for x in values])\n",
        "x_mean, y_mean = mean(x), mean(y)\n",
        "w1 = covariance(x, x_mean, y, y_mean) / variance(x, x_mean)\n",
        "w0 = y_mean - w1 * x_mean\n",
        "print(w0)\n",
        "print(w1)\n",
        "import numpy as np\n",
        "x = np.array(x)\n",
        "plt.scatter(x,y)\n",
        "plt.plot(x, w0 + w1*x, linestyle='solid')\n",
        "plt.scatter(x, w0 + w1*x,color='red')\n",
        "plt.show()\n",
        "def rmse(actual, predicted):\n",
        "    sum_error = 0.0\n",
        "    for i in range(len(actual)):\n",
        "        prediction_error = predicted[i] - actual[i]\n",
        "        sum_error += (prediction_error ** 2)\n",
        "    mean_error = sum_error / float(len(actual))\n",
        "    return (mean_error)**0.5\n",
        "yPred = [w0 + q*w1 for q in x]\n",
        "print(rmse(y,yPred))\n",
        "print(\"Enter the x:\")\n",
        "test = [int(i) for i in input().split()]\n",
        "yNew = w0 + w1 * test[0]\n",
        "print(yNew)"
      ]
    }
  ]
}