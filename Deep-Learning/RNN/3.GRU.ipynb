{
  "nbformat": 4,
  "nbformat_minor": 0,
  "metadata": {
    "colab": {
      "provenance": []
    },
    "kernelspec": {
      "name": "python3",
      "display_name": "Python 3"
    },
    "language_info": {
      "name": "python"
    }
  },
  "cells": [
    {
      "cell_type": "code",
      "execution_count": null,
      "metadata": {
        "colab": {
          "base_uri": "https://localhost:8080/"
        },
        "id": "7y-DMWuPt4de",
        "outputId": "13a266c1-f34d-4251-c535-84983314af88"
      },
      "outputs": [
        {
          "output_type": "stream",
          "name": "stdout",
          "text": [
            "Model: \"sequential_1\"\n",
            "_________________________________________________________________\n",
            " Layer (type)                Output Shape              Param #   \n",
            "=================================================================\n",
            " gru_1 (GRU)                 (None, 64)                18048     \n",
            "                                                                 \n",
            " batch_normalization_1 (Batc  (None, 64)               256       \n",
            " hNormalization)                                                 \n",
            "                                                                 \n",
            " dense_1 (Dense)             (None, 10)                650       \n",
            "                                                                 \n",
            "=================================================================\n",
            "Total params: 18,954\n",
            "Trainable params: 18,826\n",
            "Non-trainable params: 128\n",
            "_________________________________________________________________\n",
            "None\n",
            "Epoch 1/10\n",
            "938/938 [==============================] - 22s 21ms/step - loss: 1.3866 - accuracy: 0.5356 - val_loss: 0.9861 - val_accuracy: 0.6743\n",
            "Epoch 2/10\n",
            "938/938 [==============================] - 20s 21ms/step - loss: 0.8331 - accuracy: 0.7286 - val_loss: 0.7086 - val_accuracy: 0.7664\n",
            "Epoch 3/10\n",
            "938/938 [==============================] - 20s 21ms/step - loss: 0.5801 - accuracy: 0.8167 - val_loss: 0.4582 - val_accuracy: 0.8547\n",
            "Epoch 4/10\n",
            "938/938 [==============================] - 19s 20ms/step - loss: 0.4223 - accuracy: 0.8687 - val_loss: 0.3434 - val_accuracy: 0.8929\n",
            "Epoch 5/10\n",
            "938/938 [==============================] - 19s 21ms/step - loss: 0.3370 - accuracy: 0.8969 - val_loss: 0.6934 - val_accuracy: 0.7720\n",
            "Epoch 6/10\n",
            "938/938 [==============================] - 19s 20ms/step - loss: 0.2756 - accuracy: 0.9159 - val_loss: 0.2741 - val_accuracy: 0.9150\n",
            "Epoch 7/10\n",
            "938/938 [==============================] - 19s 20ms/step - loss: 0.2347 - accuracy: 0.9287 - val_loss: 0.2459 - val_accuracy: 0.9197\n",
            "Epoch 8/10\n",
            "938/938 [==============================] - 19s 21ms/step - loss: 0.2059 - accuracy: 0.9363 - val_loss: 0.2990 - val_accuracy: 0.9036\n",
            "Epoch 9/10\n",
            "938/938 [==============================] - 19s 20ms/step - loss: 0.1846 - accuracy: 0.9438 - val_loss: 0.1841 - val_accuracy: 0.9398\n",
            "Epoch 10/10\n",
            "938/938 [==============================] - 19s 20ms/step - loss: 0.1655 - accuracy: 0.9495 - val_loss: 0.1542 - val_accuracy: 0.9534\n",
            "1/1 [==============================] - 0s 453ms/step\n",
            "[7] 7\n",
            "1/1 [==============================] - 0s 19ms/step\n",
            "[8] 8\n",
            "1/1 [==============================] - 0s 19ms/step\n",
            "[4] 9\n",
            "1/1 [==============================] - 0s 18ms/step\n",
            "[0] 0\n",
            "1/1 [==============================] - 0s 21ms/step\n",
            "[1] 1\n",
            "1/1 [==============================] - 0s 21ms/step\n",
            "[2] 2\n",
            "1/1 [==============================] - 0s 22ms/step\n",
            "[3] 3\n",
            "1/1 [==============================] - 0s 23ms/step\n",
            "[4] 4\n",
            "1/1 [==============================] - 0s 20ms/step\n",
            "[5] 5\n",
            "1/1 [==============================] - 0s 23ms/step\n",
            "[6] 6\n"
          ]
        }
      ],
      "source": [
        "import tensorflow as tf\n",
        "from tensorflow import keras\n",
        "from tensorflow.keras import layers\n",
        "\n",
        "model = keras.Sequential()\n",
        "model.add(layers.GRU(64, input_shape=(28, 28)))\n",
        "model.add(layers.BatchNormalization())\n",
        "model.add(layers.Dense(10))\n",
        "print(model.summary())\n",
        "\n",
        "mnist = keras.datasets.mnist\n",
        "(x_train, y_train), (x_test, y_test) = mnist.load_data()\n",
        "x_train, x_test = x_train/255.0, x_test/255.0\n",
        "x_validate, y_validate = x_test[:-10], y_test[:-10]\n",
        "x_test, y_test = x_test[-10:], y_test[-10:]\n",
        "\n",
        "model.compile(\n",
        "    loss=keras.losses.SparseCategoricalCrossentropy(from_logits=True),\n",
        "    optimizer=\"sgd\",\n",
        "    metrics=[\"accuracy\"],\n",
        ")\t\n",
        "\n",
        "model.fit(\n",
        "    x_train, y_train, validation_data=(x_validate, y_validate), batch_size=64, epochs=10\n",
        ")\n",
        "\n",
        "for i in range(10):\n",
        "    result = tf.argmax(model.predict(tf.expand_dims(x_test[i], 0)), axis=1)\n",
        "    print(result.numpy(), y_test[i])"
      ]
    }
  ]
}