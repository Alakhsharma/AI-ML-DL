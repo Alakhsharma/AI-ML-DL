{
  "nbformat": 4,
  "nbformat_minor": 0,
  "metadata": {
    "colab": {
      "provenance": []
    },
    "kernelspec": {
      "name": "python3",
      "display_name": "Python 3"
    },
    "language_info": {
      "name": "python"
    }
  },
  "cells": [
    {
      "cell_type": "code",
      "execution_count": 1,
      "metadata": {
        "colab": {
          "base_uri": "https://localhost:8080/",
          "height": 334
        },
        "id": "MnPBA55Fv_Ri",
        "outputId": "b7f8778b-b87f-4010-a858-5b2c203ee592"
      },
      "outputs": [
        {
          "output_type": "stream",
          "name": "stdout",
          "text": [
            "OR(0, 1) = 1\n",
            "OR(1, 1) = 1\n",
            "OR(0, 0) = 0\n",
            "OR(1, 0) = 1\n"
          ]
        },
        {
          "output_type": "display_data",
          "data": {
            "text/plain": [
              "<Figure size 432x288 with 1 Axes>"
            ],
            "image/png": "[encoded data removed]"
          },
          "metadata": {
            "needs_background": "light"
          }
        }
      ],
      "source": [
        "import numpy as np\n",
        "from matplotlib import pyplot as plt\n",
        "def unitStep(theeta):\n",
        "   if theeta > 0:\n",
        "       return 1\n",
        "   else:\n",
        "       return 0\n",
        "\n",
        "def perceptronModel(x, w):\n",
        "   theeta = np.dot(w, x)\n",
        "   y = unitStep(theeta)\n",
        "   return y\n",
        "def OR_logicFunction(x):\n",
        "   w = np.array([1, 1])\n",
        "\n",
        "   return perceptronModel(x, w)\n",
        "\n",
        "test1 = np.array([0, 1])\n",
        "test2 = np.array([1, 1])\n",
        "test3 = np.array([0, 0])\n",
        "test4 = np.array([1, 0])\n",
        "print(\"OR({}, {}) = {}\".format(0, 1, OR_logicFunction(test1)))\n",
        "print(\"OR({}, {}) = {}\".format(1, 1, OR_logicFunction(test2)))\n",
        "print(\"OR({}, {}) = {}\".format(0, 0, OR_logicFunction(test3)))\n",
        "print(\"OR({}, {}) = {}\".format(1, 0, OR_logicFunction(test4)))\n",
        "plt.plot(np.array([1,-0.5]))\n",
        "plt.show()\n"
      ]
    }
  ]
}