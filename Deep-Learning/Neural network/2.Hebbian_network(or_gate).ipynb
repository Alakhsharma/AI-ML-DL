{
  "nbformat": 4,
  "nbformat_minor": 0,
  "metadata": {
    "colab": {
      "provenance": []
    },
    "kernelspec": {
      "name": "python3",
      "display_name": "Python 3"
    },
    "language_info": {
      "name": "python"
    },
    "accelerator": "GPU",
    "gpuClass": "standard"
  },
  "cells": [
    {
      "cell_type": "code",
      "execution_count": 1,
      "metadata": {
        "colab": {
          "base_uri": "https://localhost:8080/",
          "height": 282
        },
        "id": "MnPBA55Fv_Ri",
        "outputId": "52b889f8-ae43-45a7-dc87-4d85ecf66209"
      },
      "outputs": [
        {
          "output_type": "stream",
          "name": "stdout",
          "text": [
            "[1, 0, 1, 2]   [1, 2, 1, 2]   [-1, 0, 1, 2]\n"
          ]
        },
        {
          "output_type": "display_data",
          "data": {
            "text/plain": [
              "<Figure size 432x288 with 1 Axes>"
            ],
            "image/png": "[encoded data removed]"
          },
          "metadata": {
            "needs_background": "light"
          }
        }
      ],
      "source": [
        "import matplotlib.pyplot as plt\n",
        "x1=[-1,-1,1,1]\n",
        "x2=[-1,1,-1,1]\n",
        "bias=[1,1,1,1]\n",
        "y=[-1,1,1,1]\n",
        "w1=0\n",
        "w2=0\n",
        "b=0\n",
        "delta_w1=[]\n",
        "delta_w2=[]\n",
        "delta_b=[]\n",
        "w1_ans=[]\n",
        "w2_ans=[]\n",
        "b_ans=[]\n",
        "count=0\n",
        "for i in range(len(x1)):\n",
        "    delta_w1.append(x1[i] * y[i])\n",
        "    delta_w2.append(x2[i] * y[i])\n",
        "    delta_b.append(y[i])\n",
        "    if count==0:\n",
        "        w1_ans.append(delta_w1[i])\n",
        "        w2_ans.append(delta_w2[i])\n",
        "        b_ans.append(delta_b[i])\n",
        "        count=count+1\n",
        "    else:\n",
        "        w1_ans.append(w1_ans[i-1]  + delta_w1[i])\n",
        "        w2_ans.append(w2_ans[i-1]  + delta_w2[i])\n",
        "        b_ans.append(b_ans[i-1] + delta_b[i])\n",
        "print(w1_ans,\" \",w2_ans,\" \",b_ans)\n",
        "final=[]\n",
        "for i in range(len(x1)):\n",
        "    final.append(w1_ans[3]*x1[i]+w2_ans[3]*x2[i]+b_ans[3])\n",
        "final_1=final\n",
        "plt.plot(final,final_1)\n",
        "plt.show()\n"
      ]
    }
  ]
}