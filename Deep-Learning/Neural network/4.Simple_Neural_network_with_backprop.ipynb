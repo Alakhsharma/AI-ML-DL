{
  "nbformat": 4,
  "nbformat_minor": 0,
  "metadata": {
    "colab": {
      "provenance": []
    },
    "kernelspec": {
      "name": "python3",
      "display_name": "Python 3"
    },
    "language_info": {
      "name": "python"
    }
  },
  "cells": [
    {
      "cell_type": "markdown",
      "source": [
        "#Neural_Network with backpropagation"
      ],
      "metadata": {
        "id": "ZeiD_P3vn_at"
      }
    },
    {
      "cell_type": "code",
      "execution_count": null,
      "metadata": {
        "colab": {
          "base_uri": "https://localhost:8080/"
        },
        "id": "5x_v1Sjk2uaR",
        "outputId": "eaa736fa-a9ba-467b-a111-e65d73b6b554"
      },
      "outputs": [
        {
          "output_type": "stream",
          "name": "stdout",
          "text": [
            "Enter the number of inputs\n",
            "2\n",
            "0.35\n",
            "0.9\n",
            "Enter number of hidden layer2\n",
            "0.34\n",
            "0.75\n",
            "0.22\n",
            "0.87\n",
            "[[0.34, 0.75], [0.22, 0.87]]\n",
            "[0.35, 0.9]\n",
            "outputs for hidden neurons\n",
            "[0.6924984850694319, 0.7066787592634521]\n",
            "enter weights for output layer\n",
            "0.43\n",
            "enter weights for output layer\n",
            "0.65\n",
            "output node's value is  0.6844100513936279\n",
            "delta for output layer: -0.03983126786504778\n",
            "New output layer weights are  0.40241690734505964 0.6218520890452378\n",
            "New weights are  [0.3370313550277475, 0.7423663414999221, 0.21711026694211255, 0.8625692578511466]\n"
          ]
        }
      ],
      "source": [
        "import numpy as np\n",
        "\n",
        "\n",
        "def sig(x):\n",
        "    e = 2.78\n",
        "    a = 1 / (1 + (pow(e, -x)))\n",
        "    return a\n",
        "\n",
        "\n",
        "N = int(input(\"Enter the number of inputs\\n\"))\n",
        "input_N = []\n",
        "for i in range(N):\n",
        "    # print(\"Enter the input for \",i)\n",
        "    x = float(input())\n",
        "    input_N.append(x)\n",
        "hidden = int(input(\"Enter number of hidden layer\"))\n",
        "weights = [[0 for x in range(hidden)] for y in range(N)]\n",
        "for i in range(hidden):\n",
        "    for j in range(N):\n",
        "        # print(\"enter weights from input\",i,\" to neuron\",j)\n",
        "        x = float(input())\n",
        "        try:\n",
        "            weights[i][j] = x\n",
        "        except:\n",
        "            pass\n",
        "\n",
        "print(weights)\n",
        "print(input_N)\n",
        "arr_ok = []\n",
        "for i in range(hidden):\n",
        "    sum = 0\n",
        "    for j in range(N):\n",
        "        a = input_N[j] * weights[i][j]\n",
        "        # print(input_N[i],weights[i][j],\"\\n\")\n",
        "        sum = sum + a\n",
        "    # print(sum)\n",
        "    sum = sig(sum)\n",
        "    arr_ok.append(sum)\n",
        "print(\"outputs for hidden neurons\")\n",
        "\n",
        "print(arr_ok)\n",
        "arr_output = []\n",
        "for i in range(2):\n",
        "    print(\"enter weights for output layer\")\n",
        "    x = float(input())\n",
        "    arr_output.append(x)\n",
        "flag = 0\n",
        "for i in range(len(arr_ok)):\n",
        "    g = arr_ok[i] * arr_output[i]\n",
        "    flag = flag + g\n",
        "flag = sig(flag)\n",
        "print(\"output node's value is \", flag)\n",
        "tk = 0.5\n",
        "deltaout = (tk - flag) * (1 - flag) * flag\n",
        "print(\"delta for output layer:\", deltaout)\n",
        "delta_hidden = []\n",
        "g = 0\n",
        "for i in range(len(arr_ok)):\n",
        "    g = arr_ok[i] * (1 - arr_ok[i]) * deltaout\n",
        "    delta_hidden.append(g)\n",
        "new_weight_output = []\n",
        "learning_rate = 1\n",
        "g = 0\n",
        "for i in range(len(arr_ok)):\n",
        "    g = learning_rate * deltaout * arr_ok[i]\n",
        "    new_weight_output.append(g + arr_output[i])\n",
        "print(\"New output layer weights are \", new_weight_output[0], new_weight_output[1])\n",
        "g = 0\n",
        "new_weights_input = []\n",
        "for i in range(hidden):\n",
        "    for j in range(N):\n",
        "        if i == 0:\n",
        "            g = learning_rate * delta_hidden[0]\n",
        "        else:\n",
        "            g = learning_rate * delta_hidden[1]\n",
        "        if j == 1:\n",
        "            g = g * input_N[1]\n",
        "        else:\n",
        "            g = g * input_N[0]\n",
        "        new_weights_input.append(g + weights[i][j])\n",
        "\n",
        "print(\"New weights are \", new_weights_input)\n"
      ]
    }
  ]
}