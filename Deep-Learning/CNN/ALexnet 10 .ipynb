{
  "cells": [
    {
      "cell_type": "code",
      "execution_count": 1,
      "id": "65435713",
      "metadata": {
        "colab": {
          "base_uri": "https://localhost:8080/"
        },
        "id": "65435713",
        "outputId": "73e73298-2633-487e-c347-72243204d0e3"
      },
      "outputs": [
        {
          "output_type": "stream",
          "name": "stdout",
          "text": [
            "Downloading data from https://www.cs.toronto.edu/~kriz/cifar-10-python.tar.gz\n",
            "170498071/170498071 [==============================] - 13s 0us/step\n"
          ]
        }
      ],
      "source": [
        "import tensorflow as tf\n",
        "from tensorflow import keras\n",
        "\n",
        "(x_train, y_train), (x_test, y_test) = keras.datasets.cifar10.load_data()\n",
        "\n",
        "\n"
      ]
    },
    {
      "cell_type": "code",
      "execution_count": 2,
      "id": "e8028a1a",
      "metadata": {
        "id": "e8028a1a"
      },
      "outputs": [],
      "source": [
        "\n",
        "x_train = x_train.astype('float32') / 255.0\n",
        "x_test = x_test.astype('float32') / 255.0\n",
        "\n",
        "\n"
      ]
    },
    {
      "cell_type": "code",
      "execution_count": 3,
      "id": "f42397e2",
      "metadata": {
        "id": "f42397e2"
      },
      "outputs": [],
      "source": [
        "num_classes = 10\n",
        "y_train = keras.utils.to_categorical(y_train, num_classes)\n",
        "y_test = keras.utils.to_categorical(y_test, num_classes)"
      ]
    },
    {
      "cell_type": "code",
      "execution_count": 4,
      "id": "84305097",
      "metadata": {
        "id": "84305097"
      },
      "outputs": [],
      "source": [
        "from tensorflow.keras.models import Sequential\n",
        "from tensorflow.keras.layers import Conv2D, MaxPooling2D, Dropout, Flatten, Dense,BatchNormalization,Activation\n",
        "\n"
      ]
    },
    {
      "cell_type": "code",
      "execution_count": 5,
      "id": "62277bb1",
      "metadata": {
        "id": "62277bb1"
      },
      "outputs": [],
      "source": [
        "import tensorflow as tf\n",
        "from tensorflow.keras.layers import Conv2D, MaxPooling2D, BatchNormalization, Dropout, Flatten, Dense\n",
        "\n",
        "model = tf.keras.models.Sequential()\n",
        "\n",
        "# Convolutional layers\n",
        "model.add(Conv2D(filters=96, kernel_size=(3, 3), activation='relu', padding='same', input_shape=(32, 32, 3)))\n",
        "model.add(MaxPooling2D(pool_size=(2, 2), strides=(2, 2)))\n",
        "model.add(BatchNormalization())\n",
        "\n",
        "model.add(Conv2D(filters=256, kernel_size=(5, 5), activation='relu', padding='same'))\n",
        "model.add(MaxPooling2D(pool_size=(2, 2), strides=(2, 2)))\n",
        "model.add(BatchNormalization())\n",
        "\n",
        "model.add(Conv2D(filters=384, kernel_size=(3, 3), activation='relu', padding='same'))\n",
        "model.add(Conv2D(filters=384, kernel_size=(3, 3), activation='relu', padding='same'))\n",
        "model.add(Conv2D(filters=256, kernel_size=(3, 3), activation='relu', padding='same'))\n",
        "model.add(MaxPooling2D(pool_size=(2, 2), strides=(1, 1)))\n",
        "model.add(BatchNormalization())\n",
        "\n",
        "# Dense layers\n",
        "model.add(Flatten())\n",
        "model.add(Dense(units=4096, activation='relu'))\n",
        "model.add(Dropout(0.5))\n",
        "\n",
        "model.add(Dense(units=4096, activation='relu'))\n",
        "model.add(Dropout(0.5))\n",
        "\n",
        "model.add(Dense(units=10, activation='softmax'))\n",
        "\n"
      ]
    },
    {
      "cell_type": "code",
      "execution_count": 6,
      "id": "48c9b4c8",
      "metadata": {
        "id": "48c9b4c8"
      },
      "outputs": [],
      "source": [
        "model.compile(optimizer='adam', loss='categorical_crossentropy', metrics=['accuracy'])\n",
        "\n",
        "\n"
      ]
    },
    {
      "cell_type": "code",
      "execution_count": 7,
      "id": "ec251a47",
      "metadata": {
        "colab": {
          "base_uri": "https://localhost:8080/"
        },
        "id": "ec251a47",
        "outputId": "87abbbb3-0469-42ae-8381-ed7c2d4d81e5"
      },
      "outputs": [
        {
          "output_type": "stream",
          "name": "stdout",
          "text": [
            "Model: \"sequential\"\n",
            "_________________________________________________________________\n",
            " Layer (type)                Output Shape              Param #   \n",
            "=================================================================\n",
            " conv2d (Conv2D)             (None, 32, 32, 96)        2688      \n",
            "                                                                 \n",
            " max_pooling2d (MaxPooling2D  (None, 16, 16, 96)       0         \n",
            " )                                                               \n",
            "                                                                 \n",
            " batch_normalization (BatchN  (None, 16, 16, 96)       384       \n",
            " ormalization)                                                   \n",
            "                                                                 \n",
            " conv2d_1 (Conv2D)           (None, 16, 16, 256)       614656    \n",
            "                                                                 \n",
            " max_pooling2d_1 (MaxPooling  (None, 8, 8, 256)        0         \n",
            " 2D)                                                             \n",
            "                                                                 \n",
            " batch_normalization_1 (Batc  (None, 8, 8, 256)        1024      \n",
            " hNormalization)                                                 \n",
            "                                                                 \n",
            " conv2d_2 (Conv2D)           (None, 8, 8, 384)         885120    \n",
            "                                                                 \n",
            " conv2d_3 (Conv2D)           (None, 8, 8, 384)         1327488   \n",
            "                                                                 \n",
            " conv2d_4 (Conv2D)           (None, 8, 8, 256)         884992    \n",
            "                                                                 \n",
            " max_pooling2d_2 (MaxPooling  (None, 7, 7, 256)        0         \n",
            " 2D)                                                             \n",
            "                                                                 \n",
            " batch_normalization_2 (Batc  (None, 7, 7, 256)        1024      \n",
            " hNormalization)                                                 \n",
            "                                                                 \n",
            " flatten (Flatten)           (None, 12544)             0         \n",
            "                                                                 \n",
            " dense (Dense)               (None, 4096)              51384320  \n",
            "                                                                 \n",
            " dropout (Dropout)           (None, 4096)              0         \n",
            "                                                                 \n",
            " dense_1 (Dense)             (None, 4096)              16781312  \n",
            "                                                                 \n",
            " dropout_1 (Dropout)         (None, 4096)              0         \n",
            "                                                                 \n",
            " dense_2 (Dense)             (None, 10)                40970     \n",
            "                                                                 \n",
            "=================================================================\n",
            "Total params: 71,923,978\n",
            "Trainable params: 71,922,762\n",
            "Non-trainable params: 1,216\n",
            "_________________________________________________________________\n"
          ]
        }
      ],
      "source": [
        "model.summary()\n"
      ]
    },
    {
      "cell_type": "code",
      "execution_count": 8,
      "id": "f262a3e7",
      "metadata": {
        "colab": {
          "base_uri": "https://localhost:8080/"
        },
        "id": "f262a3e7",
        "outputId": "2f494cb1-050c-4aa4-e7d0-9b2716d02ca3"
      },
      "outputs": [
        {
          "output_type": "stream",
          "name": "stdout",
          "text": [
            "Epoch 1/10\n",
            "1563/1563 [==============================] - 57s 27ms/step - loss: 1.7635 - accuracy: 0.3964 - val_loss: 1.4064 - val_accuracy: 0.4895\n",
            "Epoch 2/10\n",
            "1563/1563 [==============================] - 42s 27ms/step - loss: 1.2748 - accuracy: 0.5550 - val_loss: 1.7137 - val_accuracy: 0.3824\n",
            "Epoch 3/10\n",
            "1563/1563 [==============================] - 41s 26ms/step - loss: 1.0811 - accuracy: 0.6302 - val_loss: 3.0263 - val_accuracy: 0.2667\n",
            "Epoch 4/10\n",
            "1563/1563 [==============================] - 42s 27ms/step - loss: 0.9465 - accuracy: 0.6783 - val_loss: 1.0488 - val_accuracy: 0.6297\n",
            "Epoch 5/10\n",
            "1563/1563 [==============================] - 43s 27ms/step - loss: 0.7867 - accuracy: 0.7353 - val_loss: 1.2649 - val_accuracy: 0.6023\n",
            "Epoch 6/10\n",
            "1563/1563 [==============================] - 42s 27ms/step - loss: 0.7116 - accuracy: 0.7604 - val_loss: 0.9882 - val_accuracy: 0.6603\n",
            "Epoch 7/10\n",
            "1563/1563 [==============================] - 43s 28ms/step - loss: 0.6915 - accuracy: 0.7751 - val_loss: 0.8212 - val_accuracy: 0.7405\n",
            "Epoch 8/10\n",
            "1563/1563 [==============================] - 42s 27ms/step - loss: 0.6167 - accuracy: 0.8008 - val_loss: 0.6990 - val_accuracy: 0.7768\n",
            "Epoch 9/10\n",
            "1563/1563 [==============================] - 44s 28ms/step - loss: 0.5511 - accuracy: 0.8222 - val_loss: 0.7772 - val_accuracy: 0.7420\n",
            "Epoch 10/10\n",
            "1563/1563 [==============================] - 43s 27ms/step - loss: 0.4683 - accuracy: 0.8487 - val_loss: 0.9576 - val_accuracy: 0.7065\n"
          ]
        }
      ],
      "source": [
        "\n",
        "history = model.fit(x_train, y_train, epochs=10, validation_data=(x_test, y_test))\n",
        "\n"
      ]
    },
    {
      "cell_type": "code",
      "execution_count": 9,
      "id": "b1887f6a",
      "metadata": {
        "colab": {
          "base_uri": "https://localhost:8080/"
        },
        "id": "b1887f6a",
        "outputId": "eec47bfe-b8fb-47f0-ceb9-51293b3a312a"
      },
      "outputs": [
        {
          "output_type": "stream",
          "name": "stdout",
          "text": [
            "313/313 [==============================] - 2s 7ms/step - loss: 0.9576 - accuracy: 0.7065\n",
            "Test accuracy: 0.7064999938011169\n"
          ]
        }
      ],
      "source": [
        "\n",
        "test_loss, test_acc = model.evaluate(x_test, y_test)\n",
        "print('Test accuracy:', test_acc)\n",
        "\n",
        "\n"
      ]
    }
  ],
  "metadata": {
    "kernelspec": {
      "display_name": "Python 3 (ipykernel)",
      "language": "python",
      "name": "python3"
    },
    "language_info": {
      "codemirror_mode": {
        "name": "ipython",
        "version": 3
      },
      "file_extension": ".py",
      "mimetype": "text/x-python",
      "name": "python",
      "nbconvert_exporter": "python",
      "pygments_lexer": "ipython3",
      "version": "3.10.4"
    },
    "colab": {
      "provenance": []
    },
    "accelerator": "GPU",
    "gpuClass": "standard"
  },
  "nbformat": 4,
  "nbformat_minor": 5
}